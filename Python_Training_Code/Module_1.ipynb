{
 "cells": [
  {
   "cell_type": "code",
   "execution_count": 6,
   "id": "758cd9c7",
   "metadata": {},
   "outputs": [
    {
     "name": "stdout",
     "output_type": "stream",
     "text": [
      "12\n"
     ]
    }
   ],
   "source": [
    "x=3\n",
    "y=9\n",
    "z=x+y\n",
    "print(z)"
   ]
  },
  {
   "cell_type": "code",
   "execution_count": 7,
   "id": "43d3b5da",
   "metadata": {},
   "outputs": [
    {
     "name": "stdout",
     "output_type": "stream",
     "text": [
      "3\n"
     ]
    }
   ],
   "source": [
    "i=1\n",
    "j=2\n",
    "print(i+j)"
   ]
  },
  {
   "cell_type": "code",
   "execution_count": 22,
   "id": "7d0def92",
   "metadata": {},
   "outputs": [
    {
     "data": {
      "text/plain": [
       "str"
      ]
     },
     "execution_count": 22,
     "metadata": {},
     "output_type": "execute_result"
    }
   ],
   "source": [
    "num_1 = 5\n",
    "num_2 = 10\n",
    "answer = num_1 + num_2\n",
    "answer = answer + 1\n",
    "answer_str = str(answer)\n",
    "type(answer_str)\n",
    "\n",
    "\n",
    "\n"
   ]
  },
  {
   "cell_type": "code",
   "execution_count": 26,
   "id": "c8ed3e2c",
   "metadata": {},
   "outputs": [
    {
     "data": {
      "text/plain": [
       "12.56"
      ]
     },
     "execution_count": 26,
     "metadata": {},
     "output_type": "execute_result"
    }
   ],
   "source": [
    "radius = 2\n",
    "pi = 3.14\n",
    "circle = radius **2 * pi\n",
    "circle"
   ]
  },
  {
   "cell_type": "code",
   "execution_count": 32,
   "id": "8143a413",
   "metadata": {},
   "outputs": [
    {
     "data": {
      "text/plain": [
       "'Chinos Chairman'"
      ]
     },
     "execution_count": 32,
     "metadata": {},
     "output_type": "execute_result"
    }
   ],
   "source": [
    "name = \"Chinos\"\n",
    "job = \"Chairman\"\n",
    "name_job = f\"{name} {job}\"\n",
    "name_job"
   ]
  },
  {
   "cell_type": "code",
   "execution_count": 33,
   "id": "a27d3814",
   "metadata": {},
   "outputs": [
    {
     "data": {
      "text/plain": [
       "'Chinos Chairman'"
      ]
     },
     "execution_count": 33,
     "metadata": {},
     "output_type": "execute_result"
    }
   ],
   "source": [
    "phrase = name_job\n",
    "phrase"
   ]
  },
  {
   "cell_type": "code",
   "execution_count": 48,
   "id": "4bd42997",
   "metadata": {},
   "outputs": [
    {
     "data": {
      "text/plain": [
       "'Chinos Chair'"
      ]
     },
     "execution_count": 48,
     "metadata": {},
     "output_type": "execute_result"
    }
   ],
   "source": [
    "phrase [:-3]"
   ]
  }
 ],
 "metadata": {
  "kernelspec": {
   "display_name": "Python 3",
   "language": "python",
   "name": "python3"
  },
  "language_info": {
   "codemirror_mode": {
    "name": "ipython",
    "version": 3
   },
   "file_extension": ".py",
   "mimetype": "text/x-python",
   "name": "python",
   "nbconvert_exporter": "python",
   "pygments_lexer": "ipython3",
   "version": "3.12.1"
  }
 },
 "nbformat": 4,
 "nbformat_minor": 5
}
