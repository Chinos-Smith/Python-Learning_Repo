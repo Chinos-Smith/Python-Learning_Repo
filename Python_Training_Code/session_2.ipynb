{
 "cells": [
  {
   "cell_type": "code",
   "execution_count": 2,
   "id": "9e9ef78a",
   "metadata": {},
   "outputs": [
    {
     "data": {
      "text/plain": [
       "list"
      ]
     },
     "execution_count": 2,
     "metadata": {},
     "output_type": "execute_result"
    }
   ],
   "source": [
    "list_1 = []\n",
    "\n",
    "type(list_1)"
   ]
  },
  {
   "cell_type": "code",
   "execution_count": 10,
   "id": "9ea17c0b",
   "metadata": {},
   "outputs": [
    {
     "data": {
      "text/plain": [
       "'turquoise'"
      ]
     },
     "execution_count": 10,
     "metadata": {},
     "output_type": "execute_result"
    }
   ],
   "source": [
    "cols_1 = [\"red\",\"blue\",[\"yellow\",\"turquoise\"]]\n",
    "cols_2 = [\"purple\", \"orange\", cols_1]\n",
    "cols_2 [2][2][1]"
   ]
  },
  {
   "cell_type": "code",
   "execution_count": 16,
   "id": "625ab3c1",
   "metadata": {},
   "outputs": [
    {
     "data": {
      "text/plain": [
       "'turquoise'"
      ]
     },
     "execution_count": 16,
     "metadata": {},
     "output_type": "execute_result"
    }
   ],
   "source": [
    "chinos_1 = 10\n",
    "chinos_2 = 115.2\n",
    "chinos_3 = \"wickets\"\n",
    "chinos_4 = cols_1\n",
    "\n",
    "chinos_listing = [chinos_1, chinos_2, chinos_3, chinos_4]\n",
    "chinos_listing[-1][-1][-1]"
   ]
  },
  {
   "cell_type": "code",
   "execution_count": null,
   "id": "f28c2cfd",
   "metadata": {},
   "outputs": [
    {
     "name": "stdout",
     "output_type": "stream",
     "text": [
      "['red', 'blue', ['yellow', 'turquoise'], 'cyan']\n"
     ]
    }
   ],
   "source": [
    "cols_1.extend(\"cyan\")\n",
    "print(cols_1)"
   ]
  },
  {
   "cell_type": "code",
   "execution_count": 19,
   "id": "768c0833",
   "metadata": {},
   "outputs": [
    {
     "name": "stdout",
     "output_type": "stream",
     "text": [
      "['red', 'blue', ['yellow', 'turquoise'], 'cyan', ['purple', 'orange', [...]], 'purple', 'orange', [...]]\n"
     ]
    }
   ],
   "source": [
    "cols_1.extend(cols_2)\n",
    "print(cols_1)"
   ]
  },
  {
   "cell_type": "code",
   "execution_count": 20,
   "id": "2917cd75",
   "metadata": {},
   "outputs": [
    {
     "name": "stdout",
     "output_type": "stream",
     "text": [
      "['red', ['yellow', 'turquoise'], 'cyan', ['purple', 'orange', [...]], 'purple', 'orange', [...]]\n"
     ]
    }
   ],
   "source": [
    "cols_1.remove(\"blue\")\n",
    "print(cols_1)"
   ]
  },
  {
   "cell_type": "code",
   "execution_count": 24,
   "id": "4f3d2f28",
   "metadata": {},
   "outputs": [
    {
     "name": "stdout",
     "output_type": "stream",
     "text": [
      "['spaghetti', 'linguini', 'penne']\n",
      "['tomato', 'onion', 'garlic']\n",
      "['parsley', 'oregano', 'basil']\n",
      "['spaghetti', 'linguini', 'penne', ['tomato', 'onion', 'garlic']]\n",
      "['spaghetti', 'linguini', 'penne', ['tomato', 'onion', 'garlic'], 'parsley', 'oregano', 'basil']\n",
      "['spaghetti', 'penne', ['tomato', 'onion', 'garlic'], 'parsley', 'oregano', 'basil']\n"
     ]
    }
   ],
   "source": [
    "pasta_1 = [\"spaghetti\", \"linguini\", \"penne\"]\n",
    "print(pasta_1)\n",
    "veg_1 = [\"tomato\", \"onion\", \"garlic\"]\n",
    "print(veg_1)\n",
    "herbs_1 = [\"parsley\", \"oregano\", \"basil\"]\n",
    "print (herbs_1)\n",
    "\n",
    "pasta_1.append(veg_1)\n",
    "print(pasta_1)\n",
    "pasta_1.extend(herbs_1)\n",
    "print(pasta_1)\n",
    "\n",
    "pasta_1.remove(\"linguini\")\n",
    "print(pasta_1)"
   ]
  },
  {
   "cell_type": "code",
   "execution_count": 38,
   "id": "56f8769e",
   "metadata": {},
   "outputs": [
    {
     "data": {
      "text/plain": [
       "dict_keys(['Chinos', 'Helen', 'Gimli'])"
      ]
     },
     "execution_count": 38,
     "metadata": {},
     "output_type": "execute_result"
    }
   ],
   "source": [
    "fav_colours = {\"Chinos\":\"purple\",\n",
    "               \"Helen\":\"blue\",\n",
    "               \"Gimli\":{\"Monday\":\"poo brown\",\"Tuesday\":\"pink\"}}\n",
    "\n",
    "# type(fav_colours)\n",
    "fav_colours [\"Gimli\"][\"Monday\"]\n",
    "\n",
    "fav_colours.keys()"
   ]
  },
  {
   "cell_type": "code",
   "execution_count": 50,
   "id": "975ff92f",
   "metadata": {},
   "outputs": [
    {
     "name": "stdout",
     "output_type": "stream",
     "text": [
      "True\n",
      "False\n"
     ]
    },
    {
     "data": {
      "text/plain": [
       "['Bhajis', 'Parmos', 'Curries']"
      ]
     },
     "execution_count": 50,
     "metadata": {},
     "output_type": "execute_result"
    }
   ],
   "source": [
    "restaurants_1 = {\"Burger King\":\"American\",\n",
    "               \"Nandos\":\"Spanish\",\n",
    "               \"Mamtas\":[\"Bhajis\", \"Parmos\", \"Curries\"],\n",
    "               \"Tall Ships\":{\"Monday\":\"SteakNight\",\"Tuesday\":\"Fishy Suppers\",\"Wednesday\":\"All you Can Eat\"}}\n",
    "# print (restaurants_1.keys())\n",
    "# print (restaurants_1.values())\n",
    "# print (restaurants_1.items())\n",
    "\n",
    "restaurants_1[\"Pizza Hut\"] = \"Overpriced Pizza\"\n",
    "restaurants_1[\"Nandos\"] = [\"Spanish\", \"Confusing Chicken\"]\n",
    "# print(restaurants_1)\n",
    "print(\"Mamtas\" in restaurants_1)\n",
    "print(\"Raby Arms\" in restaurants_1)\n",
    "restaurants_1[\"Mamtas\"]\n"
   ]
  }
 ],
 "metadata": {
  "kernelspec": {
   "display_name": "Python 3",
   "language": "python",
   "name": "python3"
  },
  "language_info": {
   "codemirror_mode": {
    "name": "ipython",
    "version": 3
   },
   "file_extension": ".py",
   "mimetype": "text/x-python",
   "name": "python",
   "nbconvert_exporter": "python",
   "pygments_lexer": "ipython3",
   "version": "3.12.1"
  }
 },
 "nbformat": 4,
 "nbformat_minor": 5
}
